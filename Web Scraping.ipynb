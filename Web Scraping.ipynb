{
  "cells": [
    {
      "cell_type": "markdown",
      "source": [
        "## **Web Scraping**"
      ],
      "metadata": {
        "id": "lOhT1hoFDhz0"
      },
      "id": "lOhT1hoFDhz0"
    },
    {
      "cell_type": "code",
      "execution_count": null,
      "id": "6d90329d",
      "metadata": {
        "id": "6d90329d",
        "outputId": "31168b5d-b91d-46ee-81bb-1e45063a0387"
      },
      "outputs": [
        {
          "name": "stderr",
          "output_type": "stream",
          "text": [
            "<ipython-input-65-bd2de579e5a2>:11: DeprecationWarning: executable_path has been deprecated, please pass in a Service object\n",
            "  driver = webdriver.Chrome(DRIVER_PATH)\n"
          ]
        },
        {
          "name": "stdout",
          "output_type": "stream",
          "text": [
            "scroll done\n",
            "100\n",
            "data:image/png;base64,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\n",
            "https://encrypted-tbn0.gstatic.com/images?q=tbn:ANd9GcST0Ch0CccFa0LO24u04jw1Hb9INHjkmh80qw&usqp=CAU\n",
            "https://encrypted-tbn0.gstatic.com/images?q=tbn:ANd9GcQ0MdW_-fvQqbkWU91iejjZAl_jCLgp9PrmBw&usqp=CAU\n",
            "https://encrypted-tbn0.gstatic.com/images?q=tbn:ANd9GcRyhqSiN45rcvX6QAD4KtssX3f18OOpfF6liQ&usqp=CAU\n",
            "https://encrypted-tbn0.gstatic.com/images?q=tbn:ANd9GcSZrToT8S1f2ubY_GiccPp03-NVlClP8U4UZw&usqp=CAU\n",
            "https://encrypted-tbn0.gstatic.com/images?q=tbn:ANd9GcS8qF4f3DQiedOPgC9N4rvkbDqkOIogn0vD2Q&usqp=CAU\n",
            "https://encrypted-tbn0.gstatic.com/images?q=tbn:ANd9GcTco5e74EmCPn8lDPe7F2zoLFHRYE8iSS1GBg&usqp=CAU\n",
            "https://encrypted-tbn0.gstatic.com/images?q=tbn:ANd9GcR-RumA6J8cAm8lv850LTMYgPcvs3n5sfH2vg&usqp=CAU\n"
          ]
        },
        {
          "ename": "NoSuchWindowException",
          "evalue": "Message: no such window: target window already closed\nfrom unknown error: web view not found\n  (Session info: chrome=114.0.5735.199)\nStacktrace:\nBacktrace:\n\tGetHandleVerifier [0x0086A813+48355]\n\t(No symbol) [0x007FC4B1]\n\t(No symbol) [0x00705358]\n\t(No symbol) [0x006ED293]\n\t(No symbol) [0x0074E37B]\n\t(No symbol) [0x0075C473]\n\t(No symbol) [0x0074A536]\n\t(No symbol) [0x007282DC]\n\t(No symbol) [0x007293DD]\n\tGetHandleVerifier [0x00ACAABD+2539405]\n\tGetHandleVerifier [0x00B0A78F+2800735]\n\tGetHandleVerifier [0x00B0456C+2775612]\n\tGetHandleVerifier [0x008F51E0+616112]\n\t(No symbol) [0x00805F8C]\n\t(No symbol) [0x00802328]\n\t(No symbol) [0x0080240B]\n\t(No symbol) [0x007F4FF7]\n\tBaseThreadInitThunk [0x762400C9+25]\n\tRtlGetAppContainerNamedObjectPath [0x76FA7B4E+286]\n\tRtlGetAppContainerNamedObjectPath [0x76FA7B1E+238]\n",
          "output_type": "error",
          "traceback": [
            "\u001b[1;31m---------------------------------------------------------------------------\u001b[0m",
            "\u001b[1;31mNoSuchWindowException\u001b[0m                     Traceback (most recent call last)",
            "\u001b[1;32m<ipython-input-65-bd2de579e5a2>\u001b[0m in \u001b[0;36m<module>\u001b[1;34m\u001b[0m\n\u001b[0;32m     26\u001b[0m     \u001b[0mprint\u001b[0m\u001b[1;33m(\u001b[0m\u001b[0mlen\u001b[0m\u001b[1;33m(\u001b[0m\u001b[0mimage_elements\u001b[0m\u001b[1;33m)\u001b[0m\u001b[1;33m)\u001b[0m\u001b[1;33m\u001b[0m\u001b[1;33m\u001b[0m\u001b[0m\n\u001b[0;32m     27\u001b[0m     \u001b[1;32mfor\u001b[0m \u001b[0mimage\u001b[0m \u001b[1;32min\u001b[0m \u001b[0mimage_elements\u001b[0m\u001b[1;33m:\u001b[0m\u001b[1;33m\u001b[0m\u001b[1;33m\u001b[0m\u001b[0m\n\u001b[1;32m---> 28\u001b[1;33m         \u001b[1;32mif\u001b[0m \u001b[1;33m(\u001b[0m\u001b[0mimage\u001b[0m\u001b[1;33m.\u001b[0m\u001b[0mget_attribute\u001b[0m\u001b[1;33m(\u001b[0m\u001b[1;34m'src'\u001b[0m\u001b[1;33m)\u001b[0m \u001b[1;32mis\u001b[0m \u001b[1;32mnot\u001b[0m \u001b[1;32mNone\u001b[0m\u001b[1;33m)\u001b[0m\u001b[1;33m:\u001b[0m\u001b[1;33m\u001b[0m\u001b[1;33m\u001b[0m\u001b[0m\n\u001b[0m\u001b[0;32m     29\u001b[0m             \u001b[0mmy_image\u001b[0m \u001b[1;33m=\u001b[0m \u001b[0mimage\u001b[0m\u001b[1;33m.\u001b[0m\u001b[0mget_attribute\u001b[0m\u001b[1;33m(\u001b[0m\u001b[1;34m'src'\u001b[0m\u001b[1;33m)\u001b[0m\u001b[1;33m.\u001b[0m\u001b[0msplit\u001b[0m\u001b[1;33m(\u001b[0m\u001b[1;34m'data:image/jpeg;base64,'\u001b[0m\u001b[1;33m)\u001b[0m\u001b[1;33m\u001b[0m\u001b[1;33m\u001b[0m\u001b[0m\n\u001b[0;32m     30\u001b[0m             \u001b[0mfilename\u001b[0m \u001b[1;33m=\u001b[0m \u001b[0mSAVE_FOLDER\u001b[0m \u001b[1;33m+\u001b[0m \u001b[1;34m'\\\\street bumps'\u001b[0m \u001b[1;33m+\u001b[0m \u001b[0mstr\u001b[0m\u001b[1;33m(\u001b[0m\u001b[0mcounter\u001b[0m\u001b[1;33m)\u001b[0m \u001b[1;33m+\u001b[0m \u001b[1;34m'.jpeg'\u001b[0m  \u001b[1;31m# Add backslash before 'street bumps'\u001b[0m\u001b[1;33m\u001b[0m\u001b[1;33m\u001b[0m\u001b[0m\n",
            "\u001b[1;32m~\\AppData\\Roaming\\Python\\Python38\\site-packages\\selenium\\webdriver\\remote\\webelement.py\u001b[0m in \u001b[0;36mget_attribute\u001b[1;34m(self, name)\u001b[0m\n\u001b[0;32m    170\u001b[0m         \u001b[1;32mif\u001b[0m \u001b[0mgetAttribute_js\u001b[0m \u001b[1;32mis\u001b[0m \u001b[1;32mNone\u001b[0m\u001b[1;33m:\u001b[0m\u001b[1;33m\u001b[0m\u001b[1;33m\u001b[0m\u001b[0m\n\u001b[0;32m    171\u001b[0m             \u001b[0m_load_js\u001b[0m\u001b[1;33m(\u001b[0m\u001b[1;33m)\u001b[0m\u001b[1;33m\u001b[0m\u001b[1;33m\u001b[0m\u001b[0m\n\u001b[1;32m--> 172\u001b[1;33m         attribute_value = self.parent.execute_script(\n\u001b[0m\u001b[0;32m    173\u001b[0m             \u001b[1;34m\"return (%s).apply(null, arguments);\"\u001b[0m \u001b[1;33m%\u001b[0m \u001b[0mgetAttribute_js\u001b[0m\u001b[1;33m,\u001b[0m\u001b[1;33m\u001b[0m\u001b[1;33m\u001b[0m\u001b[0m\n\u001b[0;32m    174\u001b[0m             self, name)\n",
            "\u001b[1;32m~\\AppData\\Roaming\\Python\\Python38\\site-packages\\selenium\\webdriver\\remote\\webdriver.py\u001b[0m in \u001b[0;36mexecute_script\u001b[1;34m(self, script, *args)\u001b[0m\n\u001b[0;32m    489\u001b[0m         \u001b[0mcommand\u001b[0m \u001b[1;33m=\u001b[0m \u001b[0mCommand\u001b[0m\u001b[1;33m.\u001b[0m\u001b[0mW3C_EXECUTE_SCRIPT\u001b[0m\u001b[1;33m\u001b[0m\u001b[1;33m\u001b[0m\u001b[0m\n\u001b[0;32m    490\u001b[0m \u001b[1;33m\u001b[0m\u001b[0m\n\u001b[1;32m--> 491\u001b[1;33m         return self.execute(command, {\n\u001b[0m\u001b[0;32m    492\u001b[0m             \u001b[1;34m'script'\u001b[0m\u001b[1;33m:\u001b[0m \u001b[0mscript\u001b[0m\u001b[1;33m,\u001b[0m\u001b[1;33m\u001b[0m\u001b[1;33m\u001b[0m\u001b[0m\n\u001b[0;32m    493\u001b[0m             'args': converted_args})['value']\n",
            "\u001b[1;32m~\\AppData\\Roaming\\Python\\Python38\\site-packages\\selenium\\webdriver\\remote\\webdriver.py\u001b[0m in \u001b[0;36mexecute\u001b[1;34m(self, driver_command, params)\u001b[0m\n\u001b[0;32m    426\u001b[0m         \u001b[0mresponse\u001b[0m \u001b[1;33m=\u001b[0m \u001b[0mself\u001b[0m\u001b[1;33m.\u001b[0m\u001b[0mcommand_executor\u001b[0m\u001b[1;33m.\u001b[0m\u001b[0mexecute\u001b[0m\u001b[1;33m(\u001b[0m\u001b[0mdriver_command\u001b[0m\u001b[1;33m,\u001b[0m \u001b[0mparams\u001b[0m\u001b[1;33m)\u001b[0m\u001b[1;33m\u001b[0m\u001b[1;33m\u001b[0m\u001b[0m\n\u001b[0;32m    427\u001b[0m         \u001b[1;32mif\u001b[0m \u001b[0mresponse\u001b[0m\u001b[1;33m:\u001b[0m\u001b[1;33m\u001b[0m\u001b[1;33m\u001b[0m\u001b[0m\n\u001b[1;32m--> 428\u001b[1;33m             \u001b[0mself\u001b[0m\u001b[1;33m.\u001b[0m\u001b[0merror_handler\u001b[0m\u001b[1;33m.\u001b[0m\u001b[0mcheck_response\u001b[0m\u001b[1;33m(\u001b[0m\u001b[0mresponse\u001b[0m\u001b[1;33m)\u001b[0m\u001b[1;33m\u001b[0m\u001b[1;33m\u001b[0m\u001b[0m\n\u001b[0m\u001b[0;32m    429\u001b[0m             response['value'] = self._unwrap_value(\n\u001b[0;32m    430\u001b[0m                 response.get('value', None))\n",
            "\u001b[1;32m~\\AppData\\Roaming\\Python\\Python38\\site-packages\\selenium\\webdriver\\remote\\errorhandler.py\u001b[0m in \u001b[0;36mcheck_response\u001b[1;34m(self, response)\u001b[0m\n\u001b[0;32m    241\u001b[0m                 \u001b[0malert_text\u001b[0m \u001b[1;33m=\u001b[0m \u001b[0mvalue\u001b[0m\u001b[1;33m[\u001b[0m\u001b[1;34m'alert'\u001b[0m\u001b[1;33m]\u001b[0m\u001b[1;33m.\u001b[0m\u001b[0mget\u001b[0m\u001b[1;33m(\u001b[0m\u001b[1;34m'text'\u001b[0m\u001b[1;33m)\u001b[0m\u001b[1;33m\u001b[0m\u001b[1;33m\u001b[0m\u001b[0m\n\u001b[0;32m    242\u001b[0m             \u001b[1;32mraise\u001b[0m \u001b[0mexception_class\u001b[0m\u001b[1;33m(\u001b[0m\u001b[0mmessage\u001b[0m\u001b[1;33m,\u001b[0m \u001b[0mscreen\u001b[0m\u001b[1;33m,\u001b[0m \u001b[0mstacktrace\u001b[0m\u001b[1;33m,\u001b[0m \u001b[0malert_text\u001b[0m\u001b[1;33m)\u001b[0m  \u001b[1;31m# type: ignore[call-arg]  # mypy is not smart enough here\u001b[0m\u001b[1;33m\u001b[0m\u001b[1;33m\u001b[0m\u001b[0m\n\u001b[1;32m--> 243\u001b[1;33m         \u001b[1;32mraise\u001b[0m \u001b[0mexception_class\u001b[0m\u001b[1;33m(\u001b[0m\u001b[0mmessage\u001b[0m\u001b[1;33m,\u001b[0m \u001b[0mscreen\u001b[0m\u001b[1;33m,\u001b[0m \u001b[0mstacktrace\u001b[0m\u001b[1;33m)\u001b[0m\u001b[1;33m\u001b[0m\u001b[1;33m\u001b[0m\u001b[0m\n\u001b[0m",
            "\u001b[1;31mNoSuchWindowException\u001b[0m: Message: no such window: target window already closed\nfrom unknown error: web view not found\n  (Session info: chrome=114.0.5735.199)\nStacktrace:\nBacktrace:\n\tGetHandleVerifier [0x0086A813+48355]\n\t(No symbol) [0x007FC4B1]\n\t(No symbol) [0x00705358]\n\t(No symbol) [0x006ED293]\n\t(No symbol) [0x0074E37B]\n\t(No symbol) [0x0075C473]\n\t(No symbol) [0x0074A536]\n\t(No symbol) [0x007282DC]\n\t(No symbol) [0x007293DD]\n\tGetHandleVerifier [0x00ACAABD+2539405]\n\tGetHandleVerifier [0x00B0A78F+2800735]\n\tGetHandleVerifier [0x00B0456C+2775612]\n\tGetHandleVerifier [0x008F51E0+616112]\n\t(No symbol) [0x00805F8C]\n\t(No symbol) [0x00802328]\n\t(No symbol) [0x0080240B]\n\t(No symbol) [0x007F4FF7]\n\tBaseThreadInitThunk [0x762400C9+25]\n\tRtlGetAppContainerNamedObjectPath [0x76FA7B4E+286]\n\tRtlGetAppContainerNamedObjectPath [0x76FA7B1E+238]\n"
          ]
        }
      ],
      "source": [
        "import base64\n",
        "import urllib.request\n",
        "import time\n",
        "from selenium import webdriver\n",
        "from selenium.webdriver.common.by import By\n",
        "\n",
        "DRIVER_PATH = 'C:\\\\Users\\\\Nourhen\\\\Downloads\\\\stage\\\\chrome\\\\chromedriver'\n",
        "SAVE_FOLDER = 'C:\\\\Users\\\\Nourhen\\\\Downloads\\\\stage\\\\street bumps'\n",
        "GOOGLE_IMAGES = 'https://www.google.com/search?q=street+bump&tbm=isch&sa=X&ved=2ahUKEwjLqrT9zZuAAxWJRPEDHe5gC98Q0pQJegQIDhAB&biw=1536&bih=722&dpr=1.25'\n",
        "\n",
        "driver = webdriver.Chrome(DRIVER_PATH)\n",
        "driver.get(GOOGLE_IMAGES)\n",
        "\n",
        "# Scroll to the end of the page\n",
        "def scroll_to_end():\n",
        "    driver.execute_script(\"window.scrollTo(0, document.body.scrollHeight);\")\n",
        "    time.sleep(5)\n",
        "    print('scroll done')\n",
        "\n",
        "counter = 0\n",
        "target_num_images = 700  # Set the target number of images you want to download\n",
        "\n",
        "while counter < target_num_images:\n",
        "    scroll_to_end()\n",
        "    image_elements = driver.find_elements(By.CSS_SELECTOR, '.rg_i.Q4LuWd')\n",
        "    print(len(image_elements))\n",
        "    for image in image_elements:\n",
        "        if (image.get_attribute('src') is not None):\n",
        "            my_image = image.get_attribute('src').split('data:image/jpeg;base64,')\n",
        "            filename = SAVE_FOLDER + '\\\\street bumps' + str(counter) + '.jpeg'  # Add backslash before 'street bumps'\n",
        "            if(len(my_image) > 1):\n",
        "                with open(filename, 'wb') as f:\n",
        "                    f.write(base64.b64decode(my_image[1]))\n",
        "            else:\n",
        "                print(image.get_attribute('src'))\n",
        "                urllib.request.urlretrieve(image.get_attribute('src'), filename)\n",
        "            counter += 1  # Increment the counter for each image downloaded\n",
        "            if counter >= target_num_images:\n",
        "                break\n",
        "\n",
        "print(\"Image download completed.\")\n"
      ]
    },
    {
      "cell_type": "code",
      "execution_count": null,
      "id": "961a9ce5",
      "metadata": {
        "id": "961a9ce5"
      },
      "outputs": [],
      "source": []
    },
    {
      "cell_type": "code",
      "execution_count": null,
      "id": "10ea1f3b",
      "metadata": {
        "id": "10ea1f3b",
        "outputId": "e242d60f-0518-4832-b859-f74c8f4bbcb8"
      },
      "outputs": [
        {
          "name": "stderr",
          "output_type": "stream",
          "text": [
            "<ipython-input-67-faf5e8deedd3>:11: DeprecationWarning: executable_path has been deprecated, please pass in a Service object\n",
            "  driver = webdriver.Chrome(DRIVER_PATH)\n"
          ]
        },
        {
          "name": "stdout",
          "output_type": "stream",
          "text": [
            "scroll done\n",
            "49\n",
            "scroll done\n",
            "49\n",
            "scroll done\n",
            "49\n",
            "scroll done\n",
            "49\n",
            "scroll done\n",
            "49\n",
            "scroll done\n",
            "49\n",
            "scroll done\n",
            "49\n",
            "scroll done\n",
            "49\n",
            "scroll done\n",
            "49\n",
            "scroll done\n",
            "49\n",
            "scroll done\n",
            "49\n",
            "scroll done\n",
            "49\n",
            "scroll done\n",
            "49\n",
            "scroll done\n",
            "49\n",
            "scroll done\n",
            "49\n",
            "scroll done\n",
            "49\n",
            "scroll done\n",
            "49\n",
            "scroll done\n",
            "49\n",
            "scroll done\n",
            "49\n",
            "scroll done\n",
            "49\n",
            "scroll done\n",
            "49\n",
            "scroll done\n",
            "49\n",
            "scroll done\n",
            "49\n",
            "scroll done\n",
            "49\n",
            "scroll done\n",
            "49\n",
            "scroll done\n",
            "49\n",
            "scroll done\n",
            "49\n",
            "scroll done\n",
            "49\n",
            "scroll done\n",
            "49\n",
            "scroll done\n",
            "49\n",
            "scroll done\n",
            "49\n",
            "scroll done\n",
            "49\n",
            "scroll done\n",
            "49\n",
            "scroll done\n",
            "49\n",
            "scroll done\n",
            "49\n",
            "Image download completed.\n"
          ]
        }
      ],
      "source": [
        "import base64\n",
        "import urllib.request\n",
        "import time\n",
        "from selenium import webdriver\n",
        "from selenium.webdriver.common.by import By\n",
        "\n",
        "DRIVER_PATH = 'C:\\\\Users\\\\Nourhen\\\\Downloads\\\\stage\\\\chrome\\\\chromedriver'\n",
        "SAVE_FOLDER = 'C:\\\\Users\\\\Nourhen\\\\Downloads\\\\stage\\\\potholes'\n",
        "GOOGLE_IMAGES = 'https://www.google.com/search?q=potholes&tbm=isch&source=lnms&sa=X&ved=2ahUKEwiMydq5vKqAAxXMt6QKHed3DqUQ0pQJegQIDBAB&biw=1536&bih=722&dpr=1.25'\n",
        "\n",
        "driver = webdriver.Chrome(DRIVER_PATH)\n",
        "driver.get(GOOGLE_IMAGES)\n",
        "\n",
        "# Scroll to the end of the page\n",
        "def scroll_to_end():\n",
        "    driver.execute_script(\"window.scrollTo(0, document.body.scrollHeight);\")\n",
        "    time.sleep(5)\n",
        "    print('scroll done')\n",
        "\n",
        "counter = 0\n",
        "target_num_images = 700  # Set the target number of images you want to download\n",
        "\n",
        "while counter < target_num_images:\n",
        "    scroll_to_end()\n",
        "    image_elements = driver.find_elements(By.CSS_SELECTOR, '.rg_i.Q4LuWd')\n",
        "    print(len(image_elements))\n",
        "    for image in image_elements:\n",
        "        if (image.get_attribute('src') is not None):\n",
        "            my_image = image.get_attribute('src').split('data:image/jpeg;base64,')\n",
        "            filename = SAVE_FOLDER + '\\\\potholes' + str(counter) + '.jpeg'  # Add backslash before 'street bumps'\n",
        "            if(len(my_image) > 1):\n",
        "                with open(filename, 'wb') as f:\n",
        "                    f.write(base64.b64decode(my_image[1]))\n",
        "            else:\n",
        "                print(image.get_attribute('src'))\n",
        "                urllib.request.urlretrieve(image.get_attribute('src'), filename)\n",
        "            counter += 1  # Increment the counter for each image downloaded\n",
        "            if counter >= target_num_images:\n",
        "                break\n",
        "\n",
        "print(\"Image download completed.\")\n"
      ]
    }
  ],
  "metadata": {
    "kernelspec": {
      "display_name": "Python 3 (ipykernel)",
      "language": "python",
      "name": "python3"
    },
    "language_info": {
      "codemirror_mode": {
        "name": "ipython",
        "version": 3
      },
      "file_extension": ".py",
      "mimetype": "text/x-python",
      "name": "python",
      "nbconvert_exporter": "python",
      "pygments_lexer": "ipython3",
      "version": "3.8.17"
    },
    "colab": {
      "provenance": []
    }
  },
  "nbformat": 4,
  "nbformat_minor": 5
}